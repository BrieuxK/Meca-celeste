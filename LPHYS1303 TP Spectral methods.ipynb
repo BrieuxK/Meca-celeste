{
 "cells": [
  {
   "cell_type": "code",
   "execution_count": null,
   "id": "2b048467",
   "metadata": {},
   "outputs": [],
   "source": [
    "import numpy as np\n",
    "import matplotlib.pyplot as plt"
   ]
  },
  {
   "cell_type": "markdown",
   "id": "01da58d9",
   "metadata": {},
   "source": [
    "# Exo 1 DFT"
   ]
  },
  {
   "cell_type": "code",
   "execution_count": null,
   "id": "31d998ca",
   "metadata": {},
   "outputs": [],
   "source": [
    "N = 512\n",
    "n = np.linspace(0,2*np.pi - 2*np.pi/N,N)\n",
    "#dx = (2*np.pi)/N\n",
    "#x_n = dx * n\n",
    "\n",
    "u1 = np.exp(np.sin(3*n))\n",
    "u = np.sin(n)\n",
    "\n",
    "\n",
    "r = (1/N)*np.fft.fftshift(np.fft.fft(u)).real\n",
    "i = (1/N)*np.fft.fftshift(np.fft.fft(u)).imag\n",
    "\n",
    "\n",
    "plt.plot(np.arange(-N/2,N/2), r)\n",
    "#plt.plot(np.arange(-N/2,N/2), i)\n",
    "plt.xlim(-16, 16)\n",
    "plt.show()"
   ]
  },
  {
   "cell_type": "markdown",
   "id": "f6fe81c3",
   "metadata": {},
   "source": [
    "# Exo 2 Dérivée + RMS"
   ]
  },
  {
   "cell_type": "code",
   "execution_count": null,
   "id": "66e8a080",
   "metadata": {},
   "outputs": [],
   "source": [
    "#Partie dérivée\n",
    "N = 512\n",
    "L = 2*np.pi\n",
    "k = np.arange(-N/2, N/2)\n",
    "x = np.linspace(0, 2*np.pi - 2*np.pi/N, N)\n",
    "u = np.exp(np.sin(3*x))\n",
    "\n",
    "p = 1j * (2*np.pi*k)/L\n",
    "dudx = np.fft.ifft(np.fft.ifftshift(p * np.fft.fftshift(np.fft.fft(u))))\n",
    "\n",
    "plt.plot(range(-N//2,N//2), (dudx), color = \"Pink\")\n",
    "plt.plot(range(-N//2,N//2),3*np.exp(np.sin(3*x))*np.cos(3*x), color = \"Black\")\n",
    "plt.show()\n",
    "\n",
    "#Partie erreur RMS\n",
    "def err(N):\n",
    "    k = np.arange(-N/2, N/2)\n",
    "    x = np.linspace(0, 2*np.pi - 2*np.pi/N, N)\n",
    "    u = np.exp(np.sin(3*x))\n",
    "    \n",
    "    p = 1j * (2*np.pi*k)/L\n",
    "    dudx = np.fft.ifft(np.fft.ifftshift(p * np.fft.fftshift(np.fft.fft(u))))\n",
    "    val = dudx - 3*np.exp(np.sin(3*x))*np.cos(3*x)\n",
    "    sum = 0\n",
    "    for i in range(len(val)):\n",
    "        rmsi = val[i]**2\n",
    "        sum += rmsi\n",
    "    return np.sqrt(sum/N)\n",
    "\n",
    "plt.plot([8,16,32,64], [err(8),err(16),err(32),err(64)])\n",
    "plt.show()"
   ]
  },
  {
   "cell_type": "markdown",
   "id": "7363f836",
   "metadata": {},
   "source": [
    "# Exo 3 Filtre passe-bas (à refaire)"
   ]
  },
  {
   "cell_type": "code",
   "execution_count": null,
   "id": "9132e2e0",
   "metadata": {},
   "outputs": [],
   "source": [
    "N = 8\n",
    "\n",
    "k = np.arange(-N/2, N/2)\n",
    "L = 2*np.pi\n",
    "h = 2*np.pi/N\n",
    "x = np.linspace(0, 2*np.pi-h, N)\n",
    "u = np.sin(x) + np.sin(20*x)\n",
    "\n",
    "dft = np.fft.fftshift(np.fft.fft(u))\n",
    "\n",
    "r = 1/N*np.fft.fftshift(np.fft.fft(u)).real\n",
    "i = 1/N*np.fft.fftshift(np.fft.fft(u)).imag\n",
    "\n",
    "\"\"\"\n",
    "plt.plot(k,r)\n",
    "#plt.plot(k,i)\n",
    "plt.xlim(-16,16)\n",
    "plt.show()\n",
    "\"\"\"\n",
    "\n",
    "kf = 2\n",
    "vec = [0,0,1,1,1,1,1,0] #A automatiser avec kf !\n",
    "\n",
    "result = dft * vec\n",
    "plt.plot(k,r)\n",
    "plt.plot(k, result, color = \"Black\")\n",
    "plt.show()"
   ]
  }
 ],
 "metadata": {
  "kernelspec": {
   "display_name": "Python 3 (ipykernel)",
   "language": "python",
   "name": "python3"
  },
  "language_info": {
   "codemirror_mode": {
    "name": "ipython",
    "version": 3
   },
   "file_extension": ".py",
   "mimetype": "text/x-python",
   "name": "python",
   "nbconvert_exporter": "python",
   "pygments_lexer": "ipython3",
   "version": "3.9.7"
  }
 },
 "nbformat": 4,
 "nbformat_minor": 5
}
